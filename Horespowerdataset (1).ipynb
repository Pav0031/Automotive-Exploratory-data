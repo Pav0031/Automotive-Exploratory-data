{
 "cells": [
  {
   "cell_type": "code",
   "execution_count": 1,
   "id": "75740778",
   "metadata": {},
   "outputs": [],
   "source": [
    "import pandas as pd"
   ]
  },
  {
   "cell_type": "code",
   "execution_count": 6,
   "id": "2313e576",
   "metadata": {},
   "outputs": [],
   "source": [
    "df = pd.read_csv('C:/Users/pavan/Downloads/DSP_SecX_Group_YY/DSP_SecX_Group_YY/data/Auto.csv')  "
   ]
  },
  {
   "cell_type": "code",
   "execution_count": 7,
   "id": "14d79f8c",
   "metadata": {},
   "outputs": [
    {
     "name": "stdout",
     "output_type": "stream",
     "text": [
      "mpg             0\n",
      "cylinders       0\n",
      "displacement    0\n",
      "horsepower      5\n",
      "weight          0\n",
      "acceleration    0\n",
      "year            0\n",
      "origin          0\n",
      "name            0\n",
      "dtype: int64\n"
     ]
    }
   ],
   "source": [
    "# Check for missing values in the dataset\n",
    "missing_values = df.isnull().sum()\n",
    "print(missing_values)"
   ]
  },
  {
   "cell_type": "code",
   "execution_count": 8,
   "id": "43f4eb29",
   "metadata": {},
   "outputs": [
    {
     "name": "stdout",
     "output_type": "stream",
     "text": [
      "<class 'pandas.core.frame.DataFrame'>\n",
      "RangeIndex: 397 entries, 0 to 396\n",
      "Data columns (total 9 columns):\n",
      " #   Column        Non-Null Count  Dtype  \n",
      "---  ------        --------------  -----  \n",
      " 0   mpg           397 non-null    float64\n",
      " 1   cylinders     397 non-null    int64  \n",
      " 2   displacement  397 non-null    float64\n",
      " 3   horsepower    392 non-null    float64\n",
      " 4   weight        397 non-null    int64  \n",
      " 5   acceleration  397 non-null    float64\n",
      " 6   year          397 non-null    int64  \n",
      " 7   origin        397 non-null    object \n",
      " 8   name          397 non-null    object \n",
      "dtypes: float64(4), int64(3), object(2)\n",
      "memory usage: 28.0+ KB\n",
      "None\n",
      "              mpg   cylinders  displacement  horsepower       weight  \\\n",
      "count  397.000000  397.000000    397.000000  392.000000   397.000000   \n",
      "mean    23.515869    5.458438    193.532746  104.469388  2970.261965   \n",
      "std      7.825804    1.701577    104.379583   38.491160   847.904119   \n",
      "min      9.000000    3.000000     68.000000   46.000000  1613.000000   \n",
      "25%     17.500000    4.000000    104.000000   75.000000  2223.000000   \n",
      "50%     23.000000    4.000000    146.000000   93.500000  2800.000000   \n",
      "75%     29.000000    8.000000    262.000000  126.000000  3609.000000   \n",
      "max     46.600000    8.000000    455.000000  230.000000  5140.000000   \n",
      "\n",
      "       acceleration        year  \n",
      "count    397.000000  397.000000  \n",
      "mean      15.555668   75.994962  \n",
      "std        2.749995    3.690005  \n",
      "min        8.000000   70.000000  \n",
      "25%       13.800000   73.000000  \n",
      "50%       15.500000   76.000000  \n",
      "75%       17.100000   79.000000  \n",
      "max       24.800000   82.000000  \n"
     ]
    }
   ],
   "source": [
    "# Check data types and basic statistics of the dataset\n",
    "data_info = df.info()\n",
    "summary_stats = df.describe()\n",
    "print(data_info)\n",
    "print(summary_stats)"
   ]
  },
  {
   "cell_type": "code",
   "execution_count": 9,
   "id": "a3cdb6f6",
   "metadata": {},
   "outputs": [
    {
     "name": "stdout",
     "output_type": "stream",
     "text": [
      "First few rows:\n",
      "     mpg  cylinders  displacement  horsepower  weight  acceleration  year  \\\n",
      "0  18.0          8         307.0       130.0    3504          12.0    70   \n",
      "1  15.0          8         350.0       165.0    3693          11.5    70   \n",
      "2  18.0          8         318.0       150.0    3436          11.0    70   \n",
      "3  16.0          8         304.0       150.0    3433          12.0    70   \n",
      "4  17.0          8         302.0       140.0    3449          10.5    70   \n",
      "\n",
      "     origin                       name  \n",
      "0  American  chevrolet chevelle malibu  \n",
      "1  American          buick skylark 320  \n",
      "2  American         plymouth satellite  \n",
      "3  American              amc rebel sst  \n",
      "4  American                ford torino  \n",
      "\n",
      "Last few rows:\n",
      "       mpg  cylinders  displacement  horsepower  weight  acceleration  year  \\\n",
      "392  27.0          4         140.0        86.0    2790          15.6    82   \n",
      "393  44.0          4          97.0        52.0    2130          24.6    82   \n",
      "394  32.0          4         135.0        84.0    2295          11.6    82   \n",
      "395  28.0          4         120.0        79.0    2625          18.6    82   \n",
      "396  31.0          4         119.0        82.0    2720          19.4    82   \n",
      "\n",
      "       origin             name  \n",
      "392  American  ford mustang gl  \n",
      "393  European        vw pickup  \n",
      "394  American    dodge rampage  \n",
      "395  American      ford ranger  \n",
      "396  American       chevy s-10  \n",
      "\n",
      "Number of rows and columns: (397, 9)\n",
      "\n",
      "Unique values in 'origin' column: ['American' 'Japanese' 'European']\n"
     ]
    }
   ],
   "source": [
    "# Display the first few rows of the dataset\n",
    "head = df.head()\n",
    "\n",
    "# Display the last few rows of the dataset\n",
    "tail = df.tail()\n",
    "\n",
    "# Display the number of rows and columns in the dataset\n",
    "shape = df.shape\n",
    "\n",
    "# Display unique values in the 'origin' column\n",
    "unique_values_origin = df['origin'].unique()\n",
    "\n",
    "print(\"First few rows:\\n\", head)\n",
    "print(\"\\nLast few rows:\\n\", tail)\n",
    "print(\"\\nNumber of rows and columns:\", shape)\n",
    "print(\"\\nUnique values in 'origin' column:\", unique_values_origin)"
   ]
  },
  {
   "cell_type": "code",
   "execution_count": 11,
   "id": "dd52dfbf",
   "metadata": {},
   "outputs": [
    {
     "data": {
      "text/html": [
       "<div>\n",
       "<style scoped>\n",
       "    .dataframe tbody tr th:only-of-type {\n",
       "        vertical-align: middle;\n",
       "    }\n",
       "\n",
       "    .dataframe tbody tr th {\n",
       "        vertical-align: top;\n",
       "    }\n",
       "\n",
       "    .dataframe thead th {\n",
       "        text-align: right;\n",
       "    }\n",
       "</style>\n",
       "<table border=\"1\" class=\"dataframe\">\n",
       "  <thead>\n",
       "    <tr style=\"text-align: right;\">\n",
       "      <th></th>\n",
       "      <th>mpg</th>\n",
       "      <th>displacement</th>\n",
       "      <th>horsepower</th>\n",
       "      <th>weight</th>\n",
       "      <th>acceleration</th>\n",
       "    </tr>\n",
       "  </thead>\n",
       "  <tbody>\n",
       "    <tr>\n",
       "      <th>mpg</th>\n",
       "      <td>1.000000</td>\n",
       "      <td>-0.804443</td>\n",
       "      <td>-0.778427</td>\n",
       "      <td>-0.831739</td>\n",
       "      <td>0.422297</td>\n",
       "    </tr>\n",
       "    <tr>\n",
       "      <th>displacement</th>\n",
       "      <td>-0.804443</td>\n",
       "      <td>1.000000</td>\n",
       "      <td>0.897257</td>\n",
       "      <td>0.933104</td>\n",
       "      <td>-0.544162</td>\n",
       "    </tr>\n",
       "    <tr>\n",
       "      <th>horsepower</th>\n",
       "      <td>-0.778427</td>\n",
       "      <td>0.897257</td>\n",
       "      <td>1.000000</td>\n",
       "      <td>0.864538</td>\n",
       "      <td>-0.689196</td>\n",
       "    </tr>\n",
       "    <tr>\n",
       "      <th>weight</th>\n",
       "      <td>-0.831739</td>\n",
       "      <td>0.933104</td>\n",
       "      <td>0.864538</td>\n",
       "      <td>1.000000</td>\n",
       "      <td>-0.419502</td>\n",
       "    </tr>\n",
       "    <tr>\n",
       "      <th>acceleration</th>\n",
       "      <td>0.422297</td>\n",
       "      <td>-0.544162</td>\n",
       "      <td>-0.689196</td>\n",
       "      <td>-0.419502</td>\n",
       "      <td>1.000000</td>\n",
       "    </tr>\n",
       "  </tbody>\n",
       "</table>\n",
       "</div>"
      ],
      "text/plain": [
       "                   mpg  displacement  horsepower    weight  acceleration\n",
       "mpg           1.000000     -0.804443   -0.778427 -0.831739      0.422297\n",
       "displacement -0.804443      1.000000    0.897257  0.933104     -0.544162\n",
       "horsepower   -0.778427      0.897257    1.000000  0.864538     -0.689196\n",
       "weight       -0.831739      0.933104    0.864538  1.000000     -0.419502\n",
       "acceleration  0.422297     -0.544162   -0.689196 -0.419502      1.000000"
      ]
     },
     "execution_count": 11,
     "metadata": {},
     "output_type": "execute_result"
    }
   ],
   "source": [
    "correlation_matrix = df[['mpg', 'displacement', 'horsepower', 'weight', 'acceleration']].corr()\n",
    "correlation_matrix.head()"
   ]
  },
  {
   "cell_type": "code",
   "execution_count": 24,
   "id": "4a95813f",
   "metadata": {},
   "outputs": [],
   "source": [
    "#By examining the correlation matrix, you can identify which variables are positively or negatively correlated with 'mpg'. \n",
    "#A strong negative correlation between 'weight' and 'mpg' suggests that heavier vehicles tend to have lower fuel efficiency.\n",
    "\n",
    "#'mpg' has a strong negative correlation with 'displacement,' 'horsepower,' and 'weight.' This suggests that as these attributes increase, fuel efficiency (mpg) tends to decrease.\n",
    "#'mpg' has a positive correlation with 'acceleration,' but the correlation is relatively weak. This indicates that faster acceleration is associated with slightly better fuel efficiency.\n",
    "#Negative correlations with 'mpg' suggest that cars with lower displacement, lower horsepower, and lower weight tend to have better fuel efficiency, which is an expected and intuitive result."
   ]
  },
  {
   "cell_type": "code",
   "execution_count": 25,
   "id": "71ef7266",
   "metadata": {},
   "outputs": [
    {
     "name": "stdout",
     "output_type": "stream",
     "text": [
      "origin\n",
      "American    20.071774\n",
      "European    27.891429\n",
      "Japanese    30.450633\n",
      "Name: mpg, dtype: float64\n",
      "\n",
      "cylinders\n",
      "3    20.550000\n",
      "4    29.317734\n",
      "5    27.366667\n",
      "6    19.985714\n",
      "8    14.963107\n",
      "Name: mpg, dtype: float64\n"
     ]
    }
   ],
   "source": [
    "# Group by 'origin' and calculate the mean 'mpg' for each group\n",
    "origin_grouped = df.groupby('origin')['mpg'].mean()\n",
    "print(origin_grouped)\n",
    "# Group by 'cylinders' and calculate the mean 'mpg' for each group\n",
    "cylinders_grouped = df.groupby('cylinders')['mpg'].mean()\n",
    "print(\"\")\n",
    "print(cylinders_grouped)"
   ]
  },
  {
   "cell_type": "code",
   "execution_count": 26,
   "id": "980d3470",
   "metadata": {},
   "outputs": [
    {
     "data": {
      "image/png": "[encoded data removed]",
      "text/plain": [
       "<Figure size 864x288 with 2 Axes>"
      ]
     },
     "metadata": {
      "needs_background": "light"
     },
     "output_type": "display_data"
    }
   ],
   "source": [
    "# Create bar charts for 'origin' and 'cylinders' vs. 'mpg'\n",
    "import matplotlib.pyplot as plt\n",
    "plt.figure(figsize=(12, 4))\n",
    "\n",
    "plt.subplot(1, 2, 1)\n",
    "origin_grouped.plot(kind='bar', rot=0)\n",
    "plt.title('Average MPG by Origin')\n",
    "plt.xlabel('Origin')\n",
    "plt.ylabel('Average MPG')\n",
    "\n",
    "plt.subplot(1, 2, 2)\n",
    "cylinders_grouped.plot(kind='bar', rot=0)\n",
    "plt.title('Average MPG by Cylinder Count')\n",
    "plt.xlabel('Cylinder Count')\n",
    "plt.ylabel('Average MPG')\n",
    "\n",
    "plt.tight_layout()\n",
    "plt.show()"
   ]
  },
  {
   "cell_type": "code",
   "execution_count": 27,
   "id": "f403c990",
   "metadata": {},
   "outputs": [
    {
     "name": "stdout",
     "output_type": "stream",
     "text": [
      "year\n",
      "70    17.689655\n",
      "71    21.250000\n",
      "72    18.714286\n",
      "73    17.100000\n",
      "74    22.703704\n",
      "75    20.266667\n",
      "76    21.573529\n",
      "77    23.375000\n",
      "78    24.061111\n",
      "79    25.093103\n",
      "80    33.696552\n",
      "81    30.334483\n",
      "82    32.000000\n",
      "Name: mpg, dtype: float64\n"
     ]
    }
   ],
   "source": [
    "# Group by 'year' and calculate the mean 'mpg' for each year\n",
    "year_grouped = df.groupby('year')['mpg'].mean()\n",
    "print(year_grouped)"
   ]
  },
  {
   "cell_type": "code",
   "execution_count": 28,
   "id": "379bd7b4",
   "metadata": {},
   "outputs": [
    {
     "data": {
      "image/png": "[encoded data removed]",
      "text/plain": [
       "<Figure size 720x432 with 1 Axes>"
      ]
     },
     "metadata": {
      "needs_background": "light"
     },
     "output_type": "display_data"
    }
   ],
   "source": [
    "# Create a time series plot for 'mpg' over the years\n",
    "plt.figure(figsize=(10, 6))\n",
    "plt.plot(year_grouped.index, year_grouped.values, marker='o', linestyle='-')\n",
    "plt.title('Average MPG Over the Years')\n",
    "plt.xlabel('Year')\n",
    "plt.ylabel('Average MPG')\n",
    "plt.grid(True)\n",
    "plt.show()"
   ]
  },
  {
   "cell_type": "code",
   "execution_count": 29,
   "id": "f11eda71",
   "metadata": {},
   "outputs": [],
   "source": [
    "#2. Is there any missing data? How to deal the missing values?\n",
    "\n",
    "median_horsepower = df['horsepower'].median()\n",
    "df['horsepower'].fillna(median_horsepower, inplace=True)"
   ]
  },
  {
   "cell_type": "code",
   "execution_count": 30,
   "id": "a0372ed1",
   "metadata": {},
   "outputs": [
    {
     "name": "stdout",
     "output_type": "stream",
     "text": [
      "mpg             0\n",
      "cylinders       0\n",
      "displacement    0\n",
      "horsepower      0\n",
      "weight          0\n",
      "acceleration    0\n",
      "year            0\n",
      "origin          0\n",
      "name            0\n",
      "dtype: int64\n"
     ]
    }
   ],
   "source": [
    "# Check for missing values in the dataset\n",
    "missing_values = df.isnull().sum()\n",
    "print(missing_values)"
   ]
  },
  {
   "cell_type": "code",
   "execution_count": 31,
   "id": "6862324b",
   "metadata": {},
   "outputs": [],
   "source": [
    "#We are interested in predicting mpg (mile per gallon) based on horsepower\n",
    "#a. Identify outliers if any and show it in a scatterplot."
   ]
  },
  {
   "cell_type": "code",
   "execution_count": 32,
   "id": "127b2fc1",
   "metadata": {},
   "outputs": [
    {
     "data": {
      "image/png": "[encoded data removed]",
      "text/plain": [
       "<Figure size 576x432 with 1 Axes>"
      ]
     },
     "metadata": {
      "needs_background": "light"
     },
     "output_type": "display_data"
    }
   ],
   "source": [
    "import statsmodels.api as sm\n",
    "\n",
    "# Create a scatterplot to identify outliers\n",
    "plt.figure(figsize=(8, 6))\n",
    "plt.scatter(df['horsepower'], df['mpg'])\n",
    "plt.xlabel('Horsepower')\n",
    "plt.ylabel('Miles per Gallon (mpg)')\n",
    "plt.title('Scatterplot of mpg vs. horsepower')\n",
    "plt.show()"
   ]
  },
  {
   "cell_type": "code",
   "execution_count": 33,
   "id": "7222c02f",
   "metadata": {},
   "outputs": [
    {
     "name": "stdout",
     "output_type": "stream",
     "text": [
      "                            OLS Regression Results                            \n",
      "==============================================================================\n",
      "Dep. Variable:                    mpg   R-squared:                       0.598\n",
      "Model:                            OLS   Adj. R-squared:                  0.597\n",
      "Method:                 Least Squares   F-statistic:                     588.6\n",
      "Date:                Thu, 05 Oct 2023   Prob (F-statistic):           2.86e-80\n",
      "Time:                        11:09:08   Log-Likelihood:                -1198.5\n",
      "No. Observations:                 397   AIC:                             2401.\n",
      "Df Residuals:                     395   BIC:                             2409.\n",
      "Df Model:                           1                                         \n",
      "Covariance Type:            nonrobust                                         \n",
      "==============================================================================\n",
      "                 coef    std err          t      P>|t|      [0.025      0.975]\n",
      "------------------------------------------------------------------------------\n",
      "const         40.0213      0.725     55.239      0.000      38.597      41.446\n",
      "horsepower    -0.1582      0.007    -24.262      0.000      -0.171      -0.145\n",
      "==============================================================================\n",
      "Omnibus:                       19.580   Durbin-Watson:                   0.904\n",
      "Prob(Omnibus):                  0.000   Jarque-Bera (JB):               21.101\n",
      "Skew:                           0.534   Prob(JB):                     2.62e-05\n",
      "Kurtosis:                       3.369   Cond. No.                         323.\n",
      "==============================================================================\n",
      "\n",
      "Notes:\n",
      "[1] Standard Errors assume that the covariance matrix of the errors is correctly specified.\n"
     ]
    }
   ],
   "source": [
    "# Add a constant term to the predictor variable (intercept)\n",
    "X = sm.add_constant(df['horsepower'])\n",
    "\n",
    "# Fit a linear regression model\n",
    "model = sm.OLS(df['mpg'], X).fit()\n",
    "\n",
    "# Print the model summary\n",
    "print(model.summary())"
   ]
  },
  {
   "cell_type": "code",
   "execution_count": 56,
   "id": "4bb19685",
   "metadata": {},
   "outputs": [
    {
     "name": "stdout",
     "output_type": "stream",
     "text": [
      "mpg             0\n",
      "cylinders       0\n",
      "displacement    0\n",
      "horsepower      5\n",
      "weight          0\n",
      "acceleration    0\n",
      "year            0\n",
      "origin          0\n",
      "name            0\n",
      "dtype: int64\n",
      "Index(['mpg', 'cylinders', 'displacement', 'horsepower', 'weight',\n",
      "       'acceleration', 'year', 'name', 'origin_European', 'origin_Japanese'],\n",
      "      dtype='object')\n",
      "                            OLS Regression Results                            \n",
      "==============================================================================\n",
      "Dep. Variable:                    mpg   R-squared:                       0.717\n",
      "Model:                            OLS   Adj. R-squared:                  0.714\n",
      "Method:                 Least Squares   F-statistic:                     248.0\n",
      "Date:                Thu, 05 Oct 2023   Prob (F-statistic):          5.84e-106\n",
      "Time:                        11:35:23   Log-Likelihood:                -1129.2\n",
      "No. Observations:                 397   AIC:                             2268.\n",
      "Df Residuals:                     392   BIC:                             2288.\n",
      "Df Model:                           4                                         \n",
      "Covariance Type:            nonrobust                                         \n",
      "===================================================================================\n",
      "                      coef    std err          t      P>|t|      [0.025      0.975]\n",
      "-----------------------------------------------------------------------------------\n",
      "const              42.8113      1.096     39.059      0.000      40.656      44.966\n",
      "weight             -0.0050      0.001     -9.191      0.000      -0.006      -0.004\n",
      "origin_European     1.2313      0.638      1.931      0.054      -0.022       2.485\n",
      "origin_Japanese     2.7288      0.652      4.185      0.000       1.447       4.011\n",
      "horsepower         -0.0504      0.011     -4.597      0.000      -0.072      -0.029\n",
      "==============================================================================\n",
      "Omnibus:                       33.641   Durbin-Watson:                   0.886\n",
      "Prob(Omnibus):                  0.000   Jarque-Bera (JB):               43.851\n",
      "Skew:                           0.649   Prob(JB):                     3.00e-10\n",
      "Kurtosis:                       3.982   Cond. No.                     1.84e+04\n",
      "==============================================================================\n",
      "\n",
      "Notes:\n",
      "[1] Standard Errors assume that the covariance matrix of the errors is correctly specified.\n",
      "[2] The condition number is large, 1.84e+04. This might indicate that there are\n",
      "strong multicollinearity or other numerical problems.\n"
     ]
    }
   ],
   "source": [
    "#4.Perform a regression with Weight, origin and horespower as the independent variables.\n",
    "Interpret the model.\n",
    "import statsmodels.api as sm\n",
    "\n",
    "df = pd.read_csv('C:/Users/Santosh/Downloads/DSP_SecX_Group_YY/DSP_SecX_Group_YY/data/Auto.csv')  \n",
    "\n",
    "missing_values = df.isnull().sum()\n",
    "print(missing_values)\n",
    "\n",
    "median_horsepower = df['horsepower'].median()\n",
    "df['horsepower'].fillna(median_horsepower, inplace=True)\n",
    "\n",
    "# Convert 'origin' to categorical variables (dummy variables)\n",
    "df = pd.get_dummies(df, columns=['origin'], drop_first=True)\n",
    "print(df.columns)\n",
    "\n",
    "# Define the independent variables (predictors)\n",
    "X = df[['weight', 'origin_European', 'origin_Japanese', 'horsepower']]\n",
    "\n",
    "# Add a constant term to the independent variables (intercept)\n",
    "X = sm.add_constant(X)\n",
    "\n",
    "# Define the dependent variable (target)\n",
    "y = df['mpg']\n",
    "\n",
    "# Fit the multiple linear regression model\n",
    "model = sm.OLS(y, X).fit()\n",
    "\n",
    "# Print the model summary\n",
    "print(model.summary())"
   ]
  },
  {
   "cell_type": "code",
   "execution_count": 57,
   "id": "3a260556",
   "metadata": {},
   "outputs": [],
   "source": [
    "#interpret the model based on the summary output\n",
    "#Coefficients: The coefficients represent the change in the dependent variable ('mpg') associated with a one-unit change in each respective independent variable while holding all other variables constant.\n",
    "\n",
    "#The coefficient for 'weight' indicates how a one-unit increase in vehicle weight affects 'mpg.'\n",
    "#The coefficients for 'origin_2' and 'origin_3' (dummy variables) represent the differences in 'mpg' between cars from origin 2 and origin 3 compared to cars from origin 1.\n",
    "#The coefficient for 'horsepower' indicates how a one-unit increase in engine horsepower affects 'mpg.'\n",
    "#intercept (Constant): The intercept represents the predicted 'mpg' when all independent variables are zero. However, this interpretation may not be meaningful, as it assumes a car with zero weight, zero horsepower, and origin 1. Consider the practicality of these values when interpreting the intercept.\n",
    "\n",
    "#R-squared (R²): The R-squared value measures the proportion of variance in 'mpg' that is explained by the independent variables. A higher R-squared value indicates a better fit of the model to the data.\n",
    "\n",
    "#p-values: The p-values associated with each coefficient test the null hypothesis that the corresponding coefficient is zero (i.e., no effect). Lower p-values indicate that the predictor is likely to be statistically significant in predicting 'mpg.'\n",
    "\n",
    "#Confidence Intervals: The confidence intervals provide a range within which the true population values of the coefficients are likely to fall.\n",
    "\n",
    "#Residuals: Examine the residuals to check if the model assumptions (e.g., linearity, independence, and homoscedasticity) are met.\n",
    "\n",
    "#Interpretation of Origin: When interpreting the coefficients for 'origin_2' and 'origin_3,' keep in mind that they represent the differences in 'mpg' for cars from origin 2 and origin 3 compared to cars from origin 1. Positive coefficients indicate higher 'mpg' for cars from origin 2 or origin 3 compared to origin 1, while negative coefficients indicate lower 'mpg.'\n",
    "\n",
    "#Consider the practical implications of the coefficients and whether they align with your domain knowledge and research objectives when interpreting the model."
   ]
  },
  {
   "cell_type": "code",
   "execution_count": 62,
   "id": "58ac988c",
   "metadata": {},
   "outputs": [
    {
     "name": "stdout",
     "output_type": "stream",
     "text": [
      "mpg             0\n",
      "cylinders       0\n",
      "displacement    0\n",
      "horsepower      5\n",
      "weight          0\n",
      "acceleration    0\n",
      "year            0\n",
      "origin          0\n",
      "name            0\n",
      "dtype: int64\n",
      "Index(['mpg', 'cylinders', 'displacement', 'horsepower', 'weight',\n",
      "       'acceleration', 'year', 'name', 'origin_European', 'origin_Japanese'],\n",
      "      dtype='object')\n",
      "Best Features: ['weight', 'origin_European', 'origin_Japanese', 'horsepower']\n",
      "Best MSE on Test Data: 20.828422036997306\n",
      "Best Model Equation: mpg = 44.38 + -0.01*weight + 1.07*origin_European + 1.50*origin_Japanese + -0.05*horsepower \n"
     ]
    }
   ],
   "source": [
    "#5 . Split the data into train and test (70:30). Find the best model which gives lower mse at\n",
    "#test data (you may have to do trial and error here). Express the model as a mathematical\n",
    "#equation relating the output variable to the input variables.\n",
    "\n",
    "import pandas as pd\n",
    "import numpy as np\n",
    "from sklearn.model_selection import train_test_split\n",
    "from sklearn.linear_model import LinearRegression\n",
    "from sklearn.metrics import mean_squared_error\n",
    "\n",
    "df = pd.read_csv('C:/Users/Santosh/Downloads/DSP_SecX_Group_YY/DSP_SecX_Group_YY/data/Auto.csv')  \n",
    "\n",
    "missing_values = df.isnull().sum()\n",
    "print(missing_values)\n",
    "\n",
    "median_horsepower = df['horsepower'].median()\n",
    "df['horsepower'].fillna(median_horsepower, inplace=True)\n",
    "\n",
    "# Convert 'origin' to categorical variables (dummy variables)\n",
    "df = pd.get_dummies(df, columns=['origin'], drop_first=True)\n",
    "print(df.columns)\n",
    "\n",
    "# Define the independent variables (predictors) and the dependent variable\n",
    "X = df[['weight', 'origin_European', 'origin_Japanese', 'horsepower']]\n",
    "y = df['mpg']\n",
    "\n",
    "# Split the data into training (70%) and test (30%) sets\n",
    "X_train, X_test, y_train, y_test = train_test_split(X, y, test_size=0.3, random_state=42)\n",
    "\n",
    "# Initialize variables to keep track of the best model and its MSE\n",
    "best_model = None\n",
    "best_mse = float('inf')\n",
    "\n",
    "# Iterate through models with different feature combinations\n",
    "for features in [\n",
    "    ['weight', 'origin_European', 'origin_Japanese', 'horsepower'],\n",
    "    ['weight', 'origin_European', 'origin_Japanese'],\n",
    "    ['weight', 'origin_European'],\n",
    "    ['weight'],\n",
    "]:\n",
    "    # Create and train the linear regression model\n",
    "    model = LinearRegression()\n",
    "    model.fit(X_train[features], y_train)\n",
    "    \n",
    "    # Predict on the test data\n",
    "    y_pred = model.predict(X_test[features])\n",
    "    \n",
    "    # Calculate MSE for the current model\n",
    "    mse = mean_squared_error(y_test, y_pred)\n",
    "    \n",
    "    # Check if the current model has a lower MSE\n",
    "    if mse < best_mse:\n",
    "        best_mse = mse\n",
    "        best_model = model\n",
    "        best_features = features\n",
    "\n",
    "# Print the best model and its features\n",
    "print(\"Best Features:\", best_features)\n",
    "print(\"Best MSE on Test Data:\", best_mse)\n",
    "\n",
    "# Express the best model mathematically\n",
    "coef = best_model.coef_\n",
    "intercept = best_model.intercept_\n",
    "model_equation = f\"mpg = {intercept:.2f} + \"\n",
    "for i, feature in enumerate(best_features):\n",
    "    model_equation += f\"{coef[i]:.2f}*{feature} + \"\n",
    "model_equation = model_equation[:-2]  # Remove the trailing \"+ \"\n",
    "print(\"Best Model Equation:\", model_equation)\n"
   ]
  },
  {
   "cell_type": "code",
   "execution_count": 63,
   "id": "bb6ab948",
   "metadata": {},
   "outputs": [],
   "source": [
    "#Improving above by using Use Cross-Validation, Automate Feature Selection,Use Grid Search for Hyperparameter Tuning"
   ]
  },
  {
   "cell_type": "code",
   "execution_count": 64,
   "id": "6cfa7a7a",
   "metadata": {},
   "outputs": [
    {
     "name": "stdout",
     "output_type": "stream",
     "text": [
      "mpg             0\n",
      "cylinders       0\n",
      "displacement    0\n",
      "horsepower      5\n",
      "weight          0\n",
      "acceleration    0\n",
      "year            0\n",
      "origin          0\n",
      "name            0\n",
      "dtype: int64\n",
      "Index(['mpg', 'cylinders', 'displacement', 'horsepower', 'weight',\n",
      "       'acceleration', 'year', 'name', 'origin_European', 'origin_Japanese'],\n",
      "      dtype='object')\n",
      "Best Features: ['weight', 'origin_European', 'origin_Japanese', 'horsepower']\n",
      "MSE on Test Data: 20.828422036997306\n",
      "Best Model Equation: mpg = 44.38 + -0.01*weight + 1.07*origin_European + 1.50*origin_Japanese + -0.05*horsepower \n"
     ]
    }
   ],
   "source": [
    "import pandas as pd\n",
    "import numpy as np\n",
    "from sklearn.model_selection import train_test_split, cross_val_score\n",
    "from sklearn.linear_model import LinearRegression\n",
    "from sklearn.feature_selection import RFECV\n",
    "from sklearn.metrics import mean_squared_error\n",
    "\n",
    "\n",
    "df = pd.read_csv('C:/Users/Santosh/Downloads/DSP_SecX_Group_YY/DSP_SecX_Group_YY/data/Auto.csv')  \n",
    "\n",
    "missing_values = df.isnull().sum()\n",
    "print(missing_values)\n",
    "\n",
    "median_horsepower = df['horsepower'].median()\n",
    "df['horsepower'].fillna(median_horsepower, inplace=True)\n",
    "\n",
    "# Convert 'origin' to categorical variables (dummy variables)\n",
    "df = pd.get_dummies(df, columns=['origin'], drop_first=True)\n",
    "print(df.columns)\n",
    "\n",
    "# Define the independent variables (predictors) and the dependent variable\n",
    "X = df[['weight', 'origin_European', 'origin_Japanese', 'horsepower']]\n",
    "y = df['mpg']\n",
    "\n",
    "# Split the data into training (70%) and test (30%) sets\n",
    "X_train, X_test, y_train, y_test = train_test_split(X, y, test_size=0.3, random_state=42)\n",
    "\n",
    "# Initialize a linear regression model\n",
    "model = LinearRegression()\n",
    "\n",
    "# Initialize RFECV for automated feature selection\n",
    "rfecv = RFECV(estimator=model, cv=5, scoring='neg_mean_squared_error')\n",
    "\n",
    "# Fit RFECV on the training data\n",
    "rfecv.fit(X_train, y_train)\n",
    "\n",
    "# Get the best features selected by RFECV\n",
    "best_features = X.columns[rfecv.support_].tolist()\n",
    "\n",
    "# Fit the model on the best selected features\n",
    "model.fit(X_train[best_features], y_train)\n",
    "\n",
    "# Predict on the test data\n",
    "y_pred = model.predict(X_test[best_features])\n",
    "\n",
    "# Calculate MSE on the test data\n",
    "mse = mean_squared_error(y_test, y_pred)\n",
    "\n",
    "# Print the best features and MSE\n",
    "print(\"Best Features:\", best_features)\n",
    "print(\"MSE on Test Data:\", mse)\n",
    "\n",
    "# Express the model mathematically\n",
    "coef = model.coef_\n",
    "intercept = model.intercept_\n",
    "model_equation = f\"mpg = {intercept:.2f} + \"\n",
    "for i, feature in enumerate(best_features):\n",
    "    model_equation += f\"{coef[i]:.2f}*{feature} + \"\n",
    "model_equation = model_equation[:-2]  # Remove the trailing \"+ \"\n",
    "print(\"Best Model Equation:\", model_equation)"
   ]
  },
  {
   "cell_type": "code",
   "execution_count": 65,
   "id": "d007528d",
   "metadata": {},
   "outputs": [],
   "source": [
    "#Conclusion and findings"
   ]
  },
  {
   "cell_type": "code",
   "execution_count": null,
   "id": "4a10263a",
   "metadata": {},
   "outputs": [],
   "source": []
  }
 ],
 "metadata": {
  "kernelspec": {
   "display_name": "Python 3 (ipykernel)",
   "language": "python",
   "name": "python3"
  },
  "language_info": {
   "codemirror_mode": {
    "name": "ipython",
    "version": 3
   },
   "file_extension": ".py",
   "mimetype": "text/x-python",
   "name": "python",
   "nbconvert_exporter": "python",
   "pygments_lexer": "ipython3",
   "version": "3.11.4"
  }
 },
 "nbformat": 4,
 "nbformat_minor": 5
}
